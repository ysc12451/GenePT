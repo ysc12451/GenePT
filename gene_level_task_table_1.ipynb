{
 "cells": [
  {
   "cell_type": "code",
   "execution_count": 14,
   "id": "cdec6a12",
   "metadata": {},
   "outputs": [],
   "source": [
    "import pandas as pd\n",
    "import seaborn as sns\n",
    "sns.set_style(\"whitegrid\")\n",
    "import pandas as pd\n",
    "import numpy as np \n",
    "import scipy.stats as stats\n",
    "from collections import Counter\n",
    "import matplotlib.pyplot as plt\n",
    "import umap\n",
    "import matplotlib\n",
    "import mygene\n",
    "%matplotlib inline\n",
    "import pickle\n",
    "import sklearn\n",
    "import random\n",
    "from sklearn.model_selection import StratifiedKFold\n",
    "from sklearn.metrics import roc_curve, auc\n",
    "from sklearn.linear_model import LogisticRegression\n",
    "from sklearn.ensemble import RandomForestClassifier\n",
    "from sklearn.model_selection import cross_validate\n",
    "from xgboost import XGBClassifier\n",
    "# import sentence_transformers\n",
    "plt.style.use('ggplot')\n",
    "#plt.style.use('seaborn-v0_8-dark-palette')\n",
    "plt.rcParams['axes.facecolor'] = 'white'\n",
    "plt.rcParams.update({\n",
    "    \"text.usetex\": True,\n",
    "    \"font.family\": \"Helvetica\"\n",
    "})\n",
    "import matplotlib_inline\n",
    "matplotlib_inline.backend_inline.set_matplotlib_formats('retina')"
   ]
  },
  {
   "cell_type": "code",
   "execution_count": 15,
   "id": "370b03b7",
   "metadata": {},
   "outputs": [],
   "source": [
    "with open(f\"/Users/yiquntchen/Downloads/data_embedding/GPT_3_5_gene_embeddings.pickle\", \"rb\") as fp:\n",
    "    GPT_3_5_gene_embeddings = pickle.load(fp)"
   ]
  },
  {
   "cell_type": "code",
   "execution_count": 16,
   "id": "25391584",
   "metadata": {},
   "outputs": [],
   "source": [
    "# Create random embeddings as negative controls\n",
    "np.random.seed(2023)\n",
    "N_DIM = 1536\n",
    "fake_pretrain_embed = dict()\n",
    "for key in GPT_3_5_gene_embeddings.keys():\n",
    "    fake_pretrain_embed[key] = np.random.normal(size=(N_DIM))"
   ]
  },
  {
   "cell_type": "markdown",
   "id": "d890098f",
   "metadata": {},
   "source": [
    "### Long- vs short- range TFs\n",
    "The input data used here are downloaded from Chen et al. (2020) (link: https://www-nature-com.stanford.idm.oclc.org/articles/s41467-020-16106-x)."
   ]
  },
  {
   "cell_type": "code",
   "execution_count": 17,
   "id": "a7e106aa",
   "metadata": {},
   "outputs": [],
   "source": [
    "long_short_range_tf = pd.read_csv('~/Downloads/41467_2020_16106_MOESM4_ESM.csv')\n",
    "long_range_tf_gene = list(long_short_range_tf[long_short_range_tf['assignment']=='long-range TF']\\\n",
    "                                ['Unnamed: 0'])\n",
    "short_range_tf_gene = list(long_short_range_tf[long_short_range_tf['assignment']=='short-range TF']\\\n",
    "                                ['Unnamed: 0'])\n",
    "x_long_range_tf = [GPT_3_5_gene_embeddings[x] for x in long_range_tf_gene \\\n",
    "               if x in GPT_3_5_gene_embeddings]\n",
    "x_short_range_tf =  [GPT_3_5_gene_embeddings[x] for x in short_range_tf_gene\\\n",
    "               if x in GPT_3_5_gene_embeddings]"
   ]
  },
  {
   "cell_type": "code",
   "execution_count": 18,
   "id": "850ddec9",
   "metadata": {},
   "outputs": [
    {
     "name": "stdout",
     "output_type": "stream",
     "text": [
      "Logistic Regression ROC AUC: 0.726 +/- 0.261\n",
      "Random Forest ROC AUC: 0.635 +/- 0.070\n"
     ]
    }
   ],
   "source": [
    "# bivalent versus non-methylated\n",
    "np.random.seed(2023)\n",
    "random.seed(2023)\n",
    "\n",
    "# Assuming x and y are your data\n",
    "# For demonstration, let's create some dummy data.\n",
    "# Ensure your data is in NumPy array format for compatibility\n",
    "X_array = np.concatenate((x_long_range_tf,x_short_range_tf))\n",
    "y_array =  np.concatenate((np.repeat(1,len(x_long_range_tf)),np.repeat(0,len(x_short_range_tf))))\n",
    "\n",
    "# Set up Stratified K-Folds cross-validator\n",
    "# It provides train/test indices to split data into train/test sets\n",
    "cv = StratifiedKFold(n_splits=5)\n",
    "\n",
    "# Lists to store ROC AUC scores for each fold\n",
    "roc_auc_logistic = []\n",
    "roc_auc_rf = []\n",
    "\n",
    "# Lists to store TPR and FPR for each fold\n",
    "tpr_logistic = []\n",
    "fpr_logistic = []\n",
    "tpr_rf = []\n",
    "fpr_rf = []\n",
    "\n",
    "for train_index, test_index in cv.split(X_array, y_array):\n",
    "    X_train, X_test = X_array[train_index], X_array[test_index]\n",
    "    y_train, y_test = y_array[train_index], y_array[test_index]\n",
    "\n",
    "    # Logistic Regression\n",
    "    logistic_model = LogisticRegression()\n",
    "    logistic_model.fit(X_train, y_train)\n",
    "    y_score_logistic = logistic_model.predict_proba(X_test)[:, 1]\n",
    "    fpr, tpr, _ = roc_curve(y_test, y_score_logistic)\n",
    "    roc_auc = auc(fpr, tpr)\n",
    "    roc_auc_logistic.append(roc_auc)\n",
    "    tpr_logistic.append(tpr)\n",
    "    fpr_logistic.append(fpr)\n",
    "\n",
    "    # Random Forest\n",
    "    random_forest_model = RandomForestClassifier()\n",
    "    random_forest_model.fit(X_train, y_train)\n",
    "    y_score_rf = random_forest_model.predict_proba(X_test)[:, 1]\n",
    "    fpr, tpr, _ = roc_curve(y_test, y_score_rf)\n",
    "    roc_auc = auc(fpr, tpr)\n",
    "    roc_auc_rf.append(roc_auc)\n",
    "    tpr_rf.append(tpr)\n",
    "    fpr_rf.append(fpr)\n",
    "\n",
    "# Print ROC AUC scores\n",
    "print(f\"Logistic Regression ROC AUC: {np.mean(roc_auc_logistic):.3f} +/- {np.std(roc_auc_logistic):.3f}\")\n",
    "print(f\"Random Forest ROC AUC: {np.mean(roc_auc_rf):.3f} +/- {np.std(roc_auc_rf):.3f}\")\n"
   ]
  },
  {
   "cell_type": "markdown",
   "id": "2a80d457",
   "metadata": {},
   "source": [
    "## Dosage sensitive vs insensitive TFs"
   ]
  },
  {
   "cell_type": "code",
   "execution_count": 20,
   "id": "ac3fa658",
   "metadata": {},
   "outputs": [],
   "source": [
    "link_file = \"https://huggingface.co/datasets/ctheodoris/Genecorpus-30M/raw/main/example_input_files/gene_classification/dosage_sensitive_tfs/dosage_sens_tf_labels.csv\"\n",
    "dosage_tfs = pd.read_csv(link_file, header=0)\n",
    "sensitive = dosage_tfs[\"dosage_sensitive\"].dropna()\n",
    "insensitive = dosage_tfs[\"dosage_insensitive\"].dropna()"
   ]
  },
  {
   "cell_type": "code",
   "execution_count": 21,
   "id": "cb7fb72a",
   "metadata": {},
   "outputs": [
    {
     "name": "stderr",
     "output_type": "stream",
     "text": [
      "INFO:biothings.client:querying 1-122...\n",
      "INFO:biothings.client:done.\n",
      "INFO:biothings.client:Finished.\n",
      "INFO:biothings.client:querying 1-368...\n",
      "INFO:biothings.client:done.\n",
      "INFO:biothings.client:Finished.\n",
      "WARNING:biothings.client:6 input query terms found dup hits:\t[('ENSG00000063587', 2), ('ENSG00000157429', 2), ('ENSG00000181135', 2), ('ENSG00000188629', 2), ('E\n",
      "WARNING:biothings.client:1 input query terms found no hit:\t['ENSG00000215271']\n",
      "INFO:biothings.client:Pass \"returnall=True\" to return complete lists of duplicate or missing query terms.\n"
     ]
    }
   ],
   "source": [
    "mg = mygene.MyGeneInfo()\n",
    "sensitive_query = mg.querymany(sensitive, species='human')\n",
    "in_sensitive_query = mg.querymany(insensitive, species='human')\n",
    "sensitive_gene_name = [x['symbol'] for x in sensitive_query]\n",
    "in_sensitive_gene_name = [x['symbol'] for x in in_sensitive_query if 'symbol' in x]"
   ]
  },
  {
   "cell_type": "code",
   "execution_count": 22,
   "id": "21d8689e",
   "metadata": {},
   "outputs": [],
   "source": [
    "x_sensitive = [GPT_3_5_gene_embeddings[name] for name in sensitive_gene_name\\\n",
    "               if name in GPT_3_5_gene_embeddings]\n",
    "x_insensitive = [GPT_3_5_gene_embeddings[name] for name in in_sensitive_gene_name \\\n",
    "                 if name in GPT_3_5_gene_embeddings]\n",
    "x_dosage = x_sensitive.copy()\n",
    "x_dosage.extend(x_insensitive)\n",
    "y_dosage = np.concatenate((np.repeat(1,len(x_sensitive)),np.repeat(0,len(x_insensitive))))"
   ]
  },
  {
   "cell_type": "code",
   "execution_count": 23,
   "id": "050c4a0f",
   "metadata": {},
   "outputs": [
    {
     "name": "stdout",
     "output_type": "stream",
     "text": [
      "Logistic Regression ROC AUC: 0.889 +/- 0.030\n",
      "Random Forest ROC AUC: 0.899 +/- 0.031\n"
     ]
    }
   ],
   "source": [
    "np.random.seed(2023)\n",
    "random.seed(2023)\n",
    "\n",
    "# Ensure your data is in NumPy array format for compatibility\n",
    "X_array = np.array(x_dosage)\n",
    "y_array = np.array(y_dosage)\n",
    "\n",
    "\n",
    "# Set up Stratified K-Folds cross-validator\n",
    "# It provides train/test indices to split data into train/test sets\n",
    "cv = StratifiedKFold(n_splits=5)\n",
    "\n",
    "# Lists to store ROC AUC scores for each fold\n",
    "roc_auc_logistic = []\n",
    "roc_auc_rf = []\n",
    "\n",
    "# Lists to store TPR and FPR for each fold\n",
    "tpr_logistic = []\n",
    "fpr_logistic = []\n",
    "tpr_rf = []\n",
    "fpr_rf = []\n",
    "\n",
    "for train_index, test_index in cv.split(X_array, y_array):\n",
    "    X_train, X_test = X_array[train_index], X_array[test_index]\n",
    "    y_train, y_test = y_array[train_index], y_array[test_index]\n",
    "\n",
    "    # Logistic Regression\n",
    "    logistic_model = LogisticRegression()\n",
    "    logistic_model.fit(X_train, y_train)\n",
    "    y_score_logistic = logistic_model.predict_proba(X_test)[:, 1]\n",
    "    fpr, tpr, _ = roc_curve(y_test, y_score_logistic)\n",
    "    roc_auc = auc(fpr, tpr)\n",
    "    roc_auc_logistic.append(roc_auc)\n",
    "    tpr_logistic.append(tpr)\n",
    "    fpr_logistic.append(fpr)\n",
    "\n",
    "    # Random Forest\n",
    "    random_forest_model = RandomForestClassifier()\n",
    "    random_forest_model.fit(X_train, y_train)\n",
    "    y_score_rf = random_forest_model.predict_proba(X_test)[:, 1]\n",
    "    fpr, tpr, _ = roc_curve(y_test, y_score_rf)\n",
    "    roc_auc = auc(fpr, tpr)\n",
    "    roc_auc_rf.append(roc_auc)\n",
    "    tpr_rf.append(tpr)\n",
    "    fpr_rf.append(fpr)\n",
    "\n",
    "# Print ROC AUC scores\n",
    "print(f\"Logistic Regression ROC AUC: {np.mean(roc_auc_logistic):.3f} +/- {np.std(roc_auc_logistic):.3f}\")\n",
    "print(f\"Random Forest ROC AUC: {np.mean(roc_auc_rf):.3f} +/- {np.std(roc_auc_rf):.3f}\")\n"
   ]
  },
  {
   "cell_type": "code",
   "execution_count": 24,
   "id": "20487f63",
   "metadata": {},
   "outputs": [
    {
     "data": {
      "image/png": "[encoded data removed]",
      "text/plain": [
       "<Figure size 640x480 with 1 Axes>"
      ]
     },
     "metadata": {
      "image/png": {
       "height": 455,
       "width": 573
      }
     },
     "output_type": "display_data"
    }
   ],
   "source": [
    "# Plot ROC curves\n",
    "plt.figure()\n",
    "plt.plot([0, 1], [0, 1], color='navy', lw=2, linestyle='--')\n",
    "plt.plot(fpr_logistic[0], tpr_logistic[0], color='darkorange', lw=2, label='Logistic Regression (AUC = %0.2f)' % np.mean(roc_auc_logistic))\n",
    "plt.plot(fpr_rf[0], tpr_rf[0], color='green', lw=2, label='Random Forest (AUC = %0.2f)' % np.mean(roc_auc_rf))\n",
    "plt.xlim([0.0, 1.0])\n",
    "plt.ylim([0.0, 1.05])\n",
    "plt.xlabel('False Positive Rate')\n",
    "plt.ylabel('True Positive Rate')\n",
    "plt.title('AUC for dosage sensitivity prediction, GPT')\n",
    "plt.legend(loc='lower right')\n",
    "plt.show()"
   ]
  },
  {
   "cell_type": "markdown",
   "id": "8c81914b",
   "metadata": {},
   "source": [
    "## Methylation state prediction\n",
    "The csv files are downloaded from https://huggingface.co/datasets/ctheodoris/Genecorpus-30M/"
   ]
  },
  {
   "cell_type": "code",
   "execution_count": 25,
   "id": "6be8835c",
   "metadata": {},
   "outputs": [],
   "source": [
    "bivalent_gene_labels = pd.read_csv('~/Downloads/bivalent_gene_labels.txt',header=None)\n",
    "no_methylation_gene_labels = pd.read_csv('~/no_methylation_gene_labels.txt',header=None)\n",
    "lysine_gene_labels = pd.read_csv('~/Downloads/lys4_only_gene_labels.txt',header=None)"
   ]
  },
  {
   "cell_type": "code",
   "execution_count": 26,
   "id": "26f24ab1",
   "metadata": {},
   "outputs": [
    {
     "name": "stderr",
     "output_type": "stream",
     "text": [
      "INFO:biothings.client:querying 1-107...\n",
      "INFO:biothings.client:done.\n",
      "INFO:biothings.client:Finished.\n",
      "WARNING:biothings.client:10 input query terms found dup hits:\t[('ENSG00000007372', 2), ('ENSG00000110693', 2), ('ENSG00000117707', 2), ('ENSG00000120093', 2), ('E\n",
      "INFO:biothings.client:Pass \"returnall=True\" to return complete lists of duplicate or missing query terms.\n",
      "INFO:biothings.client:querying 1-42...\n",
      "INFO:biothings.client:done.\n",
      "INFO:biothings.client:Finished.\n",
      "WARNING:biothings.client:2 input query terms found dup hits:\t[('ENSG00000147488', 2), ('ENSG00000151322', 2)]\n",
      "INFO:biothings.client:Pass \"returnall=True\" to return complete lists of duplicate or missing query terms.\n",
      "INFO:biothings.client:querying 1-80...\n",
      "INFO:biothings.client:done.\n",
      "INFO:biothings.client:Finished.\n",
      "WARNING:biothings.client:2 input query terms found dup hits:\t[('ENSG00000196628', 2), ('ENSG00000198728', 2)]\n",
      "INFO:biothings.client:Pass \"returnall=True\" to return complete lists of duplicate or missing query terms.\n"
     ]
    }
   ],
   "source": [
    "bivalent_query = mg.querymany(list(bivalent_gene_labels[0]), species='human')\n",
    "no_methylation_query = mg.querymany(list(no_methylation_gene_labels[0]), species='human')\n",
    "lysine_query = mg.querymany(list(lysine_gene_labels[0]), species='human')"
   ]
  },
  {
   "cell_type": "code",
   "execution_count": 28,
   "id": "308d2bd6",
   "metadata": {},
   "outputs": [],
   "source": [
    "x_bivalent = [GPT_3_5_gene_embeddings[x['symbol']] for x in bivalent_query\\\n",
    "               if 'symbol' in x and x['symbol'] in GPT_3_5_gene_embeddings]\n",
    "x_no_methylation = [GPT_3_5_gene_embeddings[x['symbol']] for x in no_methylation_query\\\n",
    "               if 'symbol' in x and  x['symbol'] in GPT_3_5_gene_embeddings]\n",
    "x_lysine = [GPT_3_5_gene_embeddings[x['symbol']] for x in lysine_query\\\n",
    "                if 'symbol' in x and  x['symbol'] in GPT_3_5_gene_embeddings]"
   ]
  },
  {
   "cell_type": "markdown",
   "id": "adeba376",
   "metadata": {},
   "source": [
    "### Bivalent versus non-methylated"
   ]
  },
  {
   "cell_type": "code",
   "execution_count": 29,
   "id": "e6f83a44",
   "metadata": {},
   "outputs": [
    {
     "name": "stdout",
     "output_type": "stream",
     "text": [
      "Logistic Regression ROC AUC: 0.912 +/- 0.062\n",
      "Random Forest ROC AUC: 0.922 +/- 0.059\n"
     ]
    }
   ],
   "source": [
    "# bivalent versus non-methylated\n",
    "np.random.seed(2023)\n",
    "random.seed(2023)\n",
    "\n",
    "X_array = np.concatenate((x_bivalent,x_no_methylation))\n",
    "y_array =  np.concatenate((np.repeat(1,len(x_bivalent)),np.repeat(0,len(x_no_methylation))))\n",
    "\n",
    "# Set up Stratified K-Folds cross-validator\n",
    "# It provides train/test indices to split data into train/test sets\n",
    "cv = StratifiedKFold(n_splits=5)\n",
    "\n",
    "# Lists to store ROC AUC scores for each fold\n",
    "roc_auc_logistic = []\n",
    "roc_auc_rf = []\n",
    "\n",
    "# Lists to store TPR and FPR for each fold\n",
    "tpr_logistic = []\n",
    "fpr_logistic = []\n",
    "tpr_rf = []\n",
    "fpr_rf = []\n",
    "\n",
    "for train_index, test_index in cv.split(X_array, y_array):\n",
    "    X_train, X_test = X_array[train_index], X_array[test_index]\n",
    "    y_train, y_test = y_array[train_index], y_array[test_index]\n",
    "\n",
    "    # Logistic Regression\n",
    "    logistic_model = LogisticRegression()\n",
    "    logistic_model.fit(X_train, y_train)\n",
    "    y_score_logistic = logistic_model.predict_proba(X_test)[:, 1]\n",
    "    fpr, tpr, _ = roc_curve(y_test, y_score_logistic)\n",
    "    roc_auc = auc(fpr, tpr)\n",
    "    roc_auc_logistic.append(roc_auc)\n",
    "    tpr_logistic.append(tpr)\n",
    "    fpr_logistic.append(fpr)\n",
    "\n",
    "    # Random Forest\n",
    "    random_forest_model = RandomForestClassifier()\n",
    "    random_forest_model.fit(X_train, y_train)\n",
    "    y_score_rf = random_forest_model.predict_proba(X_test)[:, 1]\n",
    "    fpr, tpr, _ = roc_curve(y_test, y_score_rf)\n",
    "    roc_auc = auc(fpr, tpr)\n",
    "    roc_auc_rf.append(roc_auc)\n",
    "    tpr_rf.append(tpr)\n",
    "    fpr_rf.append(fpr)\n",
    "\n",
    "# Print ROC AUC scores\n",
    "print(f\"Logistic Regression ROC AUC: {np.mean(roc_auc_logistic):.3f} +/- {np.std(roc_auc_logistic):.3f}\")\n",
    "print(f\"Random Forest ROC AUC: {np.mean(roc_auc_rf):.3f} +/- {np.std(roc_auc_rf):.3f}\")\n"
   ]
  },
  {
   "cell_type": "markdown",
   "id": "cac9e83c",
   "metadata": {},
   "source": [
    "### bivalent versus lys-4 methylated"
   ]
  },
  {
   "cell_type": "code",
   "execution_count": 30,
   "id": "e7cd1241",
   "metadata": {},
   "outputs": [
    {
     "name": "stdout",
     "output_type": "stream",
     "text": [
      "Logistic Regression ROC AUC: 0.941 +/- 0.034\n",
      "Random Forest ROC AUC: 0.952 +/- 0.036\n"
     ]
    }
   ],
   "source": [
    "np.random.seed(2023)\n",
    "random.seed(2023)\n",
    "\n",
    "# Assuming x and y are your data\n",
    "# For demonstration, let's create some dummy data.\n",
    "# Ensure your data is in NumPy array format for compatibility\n",
    "X_array = np.concatenate((x_bivalent,x_lysine))\n",
    "y_array =  np.concatenate((np.repeat(1,len(x_bivalent)),np.repeat(0,len(x_lysine))))\n",
    "\n",
    "# Set up Stratified K-Folds cross-validator\n",
    "# It provides train/test indices to split data into train/test sets\n",
    "cv = StratifiedKFold(n_splits=5)\n",
    "\n",
    "# Lists to store ROC AUC scores for each fold\n",
    "roc_auc_logistic = []\n",
    "roc_auc_rf = []\n",
    "roc_auc_xgb = []\n",
    "\n",
    "# Lists to store TPR and FPR for each fold\n",
    "tpr_logistic = []\n",
    "fpr_logistic = []\n",
    "tpr_rf = []\n",
    "fpr_rf = []\n",
    "\n",
    "for train_index, test_index in cv.split(X_array, y_array):\n",
    "    X_train, X_test = X_array[train_index], X_array[test_index]\n",
    "    y_train, y_test = y_array[train_index], y_array[test_index]\n",
    "\n",
    "    # Logistic Regression\n",
    "    logistic_model = LogisticRegression()\n",
    "    logistic_model.fit(X_train, y_train)\n",
    "    y_score_logistic = logistic_model.predict_proba(X_test)[:, 1]\n",
    "    fpr, tpr, _ = roc_curve(y_test, y_score_logistic)\n",
    "    roc_auc = auc(fpr, tpr)\n",
    "    roc_auc_logistic.append(roc_auc)\n",
    "    tpr_logistic.append(tpr)\n",
    "    fpr_logistic.append(fpr)\n",
    "\n",
    "    # Random Forest\n",
    "    random_forest_model = RandomForestClassifier()\n",
    "    random_forest_model.fit(X_train, y_train)\n",
    "    y_score_rf = random_forest_model.predict_proba(X_test)[:, 1]\n",
    "    fpr, tpr, _ = roc_curve(y_test, y_score_rf)\n",
    "    roc_auc = auc(fpr, tpr)\n",
    "    roc_auc_rf.append(roc_auc)\n",
    "    tpr_rf.append(tpr)\n",
    "    fpr_rf.append(fpr)\n",
    "\n",
    "\n",
    "# Print ROC AUC scores\n",
    "print(f\"Logistic Regression ROC AUC: {np.mean(roc_auc_logistic):.3f} +/- {np.std(roc_auc_logistic):.3f}\")\n",
    "print(f\"Random Forest ROC AUC: {np.mean(roc_auc_rf):.3f} +/- {np.std(roc_auc_rf):.3f}\")"
   ]
  }
 ],
 "metadata": {
  "kernelspec": {
   "display_name": "Python 3 (ipykernel)",
   "language": "python",
   "name": "python3"
  },
  "language_info": {
   "codemirror_mode": {
    "name": "ipython",
    "version": 3
   },
   "file_extension": ".py",
   "mimetype": "text/x-python",
   "name": "python",
   "nbconvert_exporter": "python",
   "pygments_lexer": "ipython3",
   "version": "3.10.4"
  }
 },
 "nbformat": 4,
 "nbformat_minor": 5
}
