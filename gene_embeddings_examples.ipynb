{
 "cells": [
  {
   "cell_type": "code",
   "execution_count": 9,
   "id": "78f6c869",
   "metadata": {},
   "outputs": [],
   "source": [
    "import json\n",
    "import numpy as np\n",
    "import openai\n",
    "# remember to set your OpenAI api key\n",
    "openai.api_key = ''"
   ]
  },
  {
   "cell_type": "code",
   "execution_count": 10,
   "id": "e9304fce",
   "metadata": {},
   "outputs": [],
   "source": [
    "def get_gpt_embedding(text, model=\"text-embedding-ada-002\"):\n",
    "    text = text.replace(\"\\n\", \" \")\n",
    "    return np.array(openai.Embedding.create(input = [text], model=model)['data'][0]['embedding'])"
   ]
  },
  {
   "cell_type": "code",
   "execution_count": 11,
   "id": "d96d9478",
   "metadata": {},
   "outputs": [],
   "source": [
    "with open(\"./data/soskic_674_genes_summary_page.json\", 'r') as file:\n",
    "# with open(f\"{data_dir}NCBI_cleaned_summary_of_genes.json\", 'r') as file:\n",
    "    # NCBI_cleaned_summary_of_genes = json.load(file)\n",
    "    soskic_674 = json.load(file)"
   ]
  },
  {
   "cell_type": "code",
   "execution_count": 12,
   "id": "5202a13f",
   "metadata": {},
   "outputs": [],
   "source": [
    "gpt_gene_name_to_embedding_clean_text = {}"
   ]
  },
  {
   "cell_type": "code",
   "execution_count": 13,
   "id": "5f9b4593",
   "metadata": {},
   "outputs": [
    {
     "name": "stdout",
     "output_type": "stream",
     "text": [
      "key ABCF1\n"
     ]
    },
    {
     "ename": "APIRemovedInV1",
     "evalue": "\n\nYou tried to access openai.Embedding, but this is no longer supported in openai>=1.0.0 - see the README at https://github.com/openai/openai-python for the API.\n\nYou can run `openai migrate` to automatically upgrade your codebase to use the 1.0.0 interface. \n\nAlternatively, you can pin your installation to the old version, e.g. `pip install openai==0.28`\n\nA detailed migration guide is available here: https://github.com/openai/openai-python/discussions/742\n",
     "output_type": "error",
     "traceback": [
      "\u001b[0;31m---------------------------------------------------------------------------\u001b[0m",
      "\u001b[0;31mAPIRemovedInV1\u001b[0m                            Traceback (most recent call last)",
      "Cell \u001b[0;32mIn[13], line 9\u001b[0m\n\u001b[1;32m      7\u001b[0m     soskic_643[key] \u001b[38;5;241m=\u001b[39m np\u001b[38;5;241m.\u001b[39mzeros(GPT_DIM) \u001b[38;5;66;03m# it's hard coded to be 0\u001b[39;00m\n\u001b[1;32m      8\u001b[0m \u001b[38;5;28;01melse\u001b[39;00m:\n\u001b[0;32m----> 9\u001b[0m     soskic_643[key] \u001b[38;5;241m=\u001b[39m get_gpt_embedding(text)\n",
      "Cell \u001b[0;32mIn[10], line 3\u001b[0m, in \u001b[0;36mget_gpt_embedding\u001b[0;34m(text, model)\u001b[0m\n\u001b[1;32m      1\u001b[0m \u001b[38;5;28;01mdef\u001b[39;00m \u001b[38;5;21mget_gpt_embedding\u001b[39m(text, model\u001b[38;5;241m=\u001b[39m\u001b[38;5;124m\"\u001b[39m\u001b[38;5;124mtext-embedding-ada-002\u001b[39m\u001b[38;5;124m\"\u001b[39m):\n\u001b[1;32m      2\u001b[0m     text \u001b[38;5;241m=\u001b[39m text\u001b[38;5;241m.\u001b[39mreplace(\u001b[38;5;124m\"\u001b[39m\u001b[38;5;130;01m\\n\u001b[39;00m\u001b[38;5;124m\"\u001b[39m, \u001b[38;5;124m\"\u001b[39m\u001b[38;5;124m \u001b[39m\u001b[38;5;124m\"\u001b[39m)\n\u001b[0;32m----> 3\u001b[0m     \u001b[38;5;28;01mreturn\u001b[39;00m np\u001b[38;5;241m.\u001b[39marray(openai\u001b[38;5;241m.\u001b[39mEmbedding\u001b[38;5;241m.\u001b[39mcreate(\u001b[38;5;28minput\u001b[39m \u001b[38;5;241m=\u001b[39m [text], model\u001b[38;5;241m=\u001b[39mmodel)[\u001b[38;5;124m'\u001b[39m\u001b[38;5;124mdata\u001b[39m\u001b[38;5;124m'\u001b[39m][\u001b[38;5;241m0\u001b[39m][\u001b[38;5;124m'\u001b[39m\u001b[38;5;124membedding\u001b[39m\u001b[38;5;124m'\u001b[39m])\n",
      "File \u001b[0;32m~/miniconda3/envs/network/lib/python3.11/site-packages/openai/lib/_old_api.py:39\u001b[0m, in \u001b[0;36mAPIRemovedInV1Proxy.__call__\u001b[0;34m(self, *_args, **_kwargs)\u001b[0m\n\u001b[1;32m     38\u001b[0m \u001b[38;5;28;01mdef\u001b[39;00m \u001b[38;5;21m__call__\u001b[39m(\u001b[38;5;28mself\u001b[39m, \u001b[38;5;241m*\u001b[39m_args: Any, \u001b[38;5;241m*\u001b[39m\u001b[38;5;241m*\u001b[39m_kwargs: Any) \u001b[38;5;241m-\u001b[39m\u001b[38;5;241m>\u001b[39m Any:\n\u001b[0;32m---> 39\u001b[0m     \u001b[38;5;28;01mraise\u001b[39;00m APIRemovedInV1(symbol\u001b[38;5;241m=\u001b[39m\u001b[38;5;28mself\u001b[39m\u001b[38;5;241m.\u001b[39m_symbol)\n",
      "\u001b[0;31mAPIRemovedInV1\u001b[0m: \n\nYou tried to access openai.Embedding, but this is no longer supported in openai>=1.0.0 - see the README at https://github.com/openai/openai-python for the API.\n\nYou can run `openai migrate` to automatically upgrade your codebase to use the 1.0.0 interface. \n\nAlternatively, you can pin your installation to the old version, e.g. `pip install openai==0.28`\n\nA detailed migration guide is available here: https://github.com/openai/openai-python/discussions/742\n"
     ]
    }
   ],
   "source": [
    "GPT_DIM = 1536 # fix GPT embeddings\n",
    "for key, text in sorted(soskic_643.items()):\n",
    "    if key not in gpt_gene_name_to_embedding_clean_text:\n",
    "        print('key',key)\n",
    "        if soskic_643[key] == '': \n",
    "            # if the dictionary does not have information about a gene\n",
    "            soskic_643[key] = np.zeros(GPT_DIM) # it's hard coded to be 0\n",
    "        else:\n",
    "            soskic_643[key] = get_gpt_embedding(text) "
   ]
  },
  {
   "cell_type": "code",
   "execution_count": null,
   "id": "9d9aa802",
   "metadata": {},
   "outputs": [],
   "source": [
    "with open(f\"{data_dir}GPT_3_5_gene_embeddings.pickle\", \"wb\") as fp:\n",
    "    pickle.dump(gpt_gene_name_to_embedding_clean_text, fp)"
   ]
  },
  {
   "cell_type": "markdown",
   "id": "71a265ee",
   "metadata": {},
   "source": [
    "#### We provide an example to get GTP to complete content for gene ALPP. For your use case it could be any other genes of interest."
   ]
  },
  {
   "cell_type": "code",
   "execution_count": null,
   "id": "01a77edb",
   "metadata": {},
   "outputs": [],
   "source": [
    "gene_name_to_GPT_response = {}"
   ]
  },
  {
   "cell_type": "code",
   "execution_count": null,
   "id": "cf9c6dba",
   "metadata": {},
   "outputs": [],
   "source": [
    "gene_completion_test = ['ALPP']\n",
    "for gene in sorted(gene_completion_test):\n",
    "    if gene not in gene_name_to_GPT_response:\n",
    "        print('gene name',gene)\n",
    "        completion = openai.ChatCompletion.create(model=\"gpt-3.5-turbo\", \n",
    "                    messages=[{\"role\": \"user\", \"content\": f\"Tell me about gene {gene}\"}])\n",
    "        gene_name_to_GPT_response[gene] = completion.choices[0].message.content"
   ]
  },
  {
   "cell_type": "markdown",
   "id": "4a19438f",
   "metadata": {},
   "source": [
    "Let's also insepct the results to make sure that GPT-3.5 was not hallucinating here --- indeed the output from this API call looks biologically relevant:"
   ]
  },
  {
   "cell_type": "code",
   "execution_count": null,
   "id": "0d63da42",
   "metadata": {},
   "outputs": [],
   "source": [
    "gene_name_to_GPT_response['ALPP']"
   ]
  },
  {
   "cell_type": "markdown",
   "id": "18b9fd39",
   "metadata": {},
   "source": [
    "Output from GPT: `'Gene ALPP, also known as Alkaline Phosphatase, Placental-Like (ALPPL2), is a gene that encodes an enzyme called Alkaline phosphatase placental-like. This gene is located on human chromosome 2q37.3.\\n\\nAlkaline phosphatase is an enzyme that removes phosphate groups from various molecules, and it is involved in many important physiological processes. ALPP is primarily expressed in the placenta, but it can also be found in other tissues like liver, kidney, and intestine.\\n\\nThe ALPP gene is thought to play a role in placental development and function, as well as in fetal and postnatal bone metabolism. Studies have shown that mutations or dysregulation of ALPP expression can lead to various disorders and diseases. For example, decreased ALPP activity has been associated with hypophosphatasia, a rare genetic disorder characterized by defective bone mineralization.\\n\\nIn addition, ALPP expression has been linked to certain types of cancer. Increased ALPP activity has been observed in some malignancies, such as colorectal cancer and hepatocellular carcinoma, and it has been suggested as a potential marker for these cancers.\\n\\nOverall, the ALPP gene and its encoded enzyme, Alkaline phosphatase placental-like, have important roles in placental development, bone metabolism, and potentially in certain cancers. Further research is still needed to fully understand the exact mechanisms and implications of this gene in various physiological processes and diseases.'`"
   ]
  },
  {
   "cell_type": "code",
   "execution_count": null,
   "id": "44cce815",
   "metadata": {},
   "outputs": [],
   "source": []
  }
 ],
 "metadata": {
  "kernelspec": {
   "display_name": "Python 3 (ipykernel)",
   "language": "python",
   "name": "python3"
  },
  "language_info": {
   "codemirror_mode": {
    "name": "ipython",
    "version": 3
   },
   "file_extension": ".py",
   "mimetype": "text/x-python",
   "name": "python",
   "nbconvert_exporter": "python",
   "pygments_lexer": "ipython3",
   "version": "3.11.8"
  }
 },
 "nbformat": 4,
 "nbformat_minor": 5
}
