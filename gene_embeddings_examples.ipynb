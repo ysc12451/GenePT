{
 "cells": [
  {
   "cell_type": "code",
   "execution_count": 2,
   "id": "78f6c869",
   "metadata": {},
   "outputs": [],
   "source": [
    "import json\n",
    "import numpy as np\n",
    "import openai\n",
    "# remember to set your OpenAI api key\n",
    "openai.api_key = ''"
   ]
  },
  {
   "cell_type": "code",
   "execution_count": 3,
   "id": "e9304fce",
   "metadata": {},
   "outputs": [],
   "source": [
    "def get_gpt_embedding(text, model=\"text-embedding-ada-002\"):\n",
    "    text = text.replace(\"\\n\", \" \")\n",
    "    return np.array(openai.Embedding.create(input = [text], model=model)['data'][0]['embedding'])"
   ]
  },
  {
   "cell_type": "code",
   "execution_count": null,
   "id": "d96d9478",
   "metadata": {},
   "outputs": [],
   "source": [
    "with open(f\"./data/NCBI_cleaned_summary_of_genes.json\", 'r') as file:\n",
    "# with open(f\"{data_dir}NCBI_cleaned_summary_of_genes.json\", 'r') as file:\n",
    "    NCBI_cleaned_summary_of_genes = json.load(file)"
   ]
  },
  {
   "cell_type": "code",
   "execution_count": null,
   "id": "5202a13f",
   "metadata": {},
   "outputs": [],
   "source": [
    "gpt_gene_name_to_embedding_clean_text = {}"
   ]
  },
  {
   "cell_type": "code",
   "execution_count": null,
   "id": "5f9b4593",
   "metadata": {},
   "outputs": [],
   "source": [
    "GPT_DIM = 1536 # fix GPT embeddings\n",
    "for key, text in sorted(NCBI_cleaned_summary_of_genes.items()):\n",
    "    if key not in gpt_gene_name_to_embedding_clean_text:\n",
    "        print('key',key)\n",
    "        if NCBI_cleaned_summary_of_genes[key] == '': \n",
    "            # if the dictionary does not have information about a gene\n",
    "            NCBI_cleaned_summary_of_genes[key] = np.zeros(GPT_DIM) # it's hard coded to be 0\n",
    "        else:\n",
    "            NCBI_cleaned_summary_of_genes[key] = get_gpt_embedding(text) "
   ]
  },
  {
   "cell_type": "code",
   "execution_count": null,
   "id": "9d9aa802",
   "metadata": {},
   "outputs": [],
   "source": [
    "with open(f\"{data_dir}GPT_3_5_gene_embeddings.pickle\", \"wb\") as fp:\n",
    "    pickle.dump(gpt_gene_name_to_embedding_clean_text, fp)"
   ]
  },
  {
   "cell_type": "markdown",
   "id": "71a265ee",
   "metadata": {},
   "source": [
    "#### We provide an example to get GTP to complete content for gene ALPP. For your use case it could be any other genes of interest."
   ]
  },
  {
   "cell_type": "code",
   "execution_count": null,
   "id": "01a77edb",
   "metadata": {},
   "outputs": [],
   "source": [
    "gene_name_to_GPT_response = {}"
   ]
  },
  {
   "cell_type": "code",
   "execution_count": null,
   "id": "cf9c6dba",
   "metadata": {},
   "outputs": [],
   "source": [
    "gene_completion_test = ['ALPP']\n",
    "for gene in sorted(gene_completion_test):\n",
    "    if gene not in gene_name_to_GPT_response:\n",
    "        print('gene name',gene)\n",
    "        completion = openai.ChatCompletion.create(model=\"gpt-3.5-turbo\", \n",
    "                    messages=[{\"role\": \"user\", \"content\": f\"Tell me about gene {gene}\"}])\n",
    "        gene_name_to_GPT_response[gene] = completion.choices[0].message.content"
   ]
  },
  {
   "cell_type": "markdown",
   "id": "4a19438f",
   "metadata": {},
   "source": [
    "Let's also insepct the results to make sure that GPT-3.5 was not hallucinating here --- indeed the output from this API call looks biologically relevant:"
   ]
  },
  {
   "cell_type": "code",
   "execution_count": null,
   "id": "0d63da42",
   "metadata": {},
   "outputs": [],
   "source": [
    "gene_name_to_GPT_response['ALPP']"
   ]
  },
  {
   "cell_type": "markdown",
   "id": "18b9fd39",
   "metadata": {},
   "source": [
    "Output from GPT: `'Gene ALPP, also known as Alkaline Phosphatase, Placental-Like (ALPPL2), is a gene that encodes an enzyme called Alkaline phosphatase placental-like. This gene is located on human chromosome 2q37.3.\\n\\nAlkaline phosphatase is an enzyme that removes phosphate groups from various molecules, and it is involved in many important physiological processes. ALPP is primarily expressed in the placenta, but it can also be found in other tissues like liver, kidney, and intestine.\\n\\nThe ALPP gene is thought to play a role in placental development and function, as well as in fetal and postnatal bone metabolism. Studies have shown that mutations or dysregulation of ALPP expression can lead to various disorders and diseases. For example, decreased ALPP activity has been associated with hypophosphatasia, a rare genetic disorder characterized by defective bone mineralization.\\n\\nIn addition, ALPP expression has been linked to certain types of cancer. Increased ALPP activity has been observed in some malignancies, such as colorectal cancer and hepatocellular carcinoma, and it has been suggested as a potential marker for these cancers.\\n\\nOverall, the ALPP gene and its encoded enzyme, Alkaline phosphatase placental-like, have important roles in placental development, bone metabolism, and potentially in certain cancers. Further research is still needed to fully understand the exact mechanisms and implications of this gene in various physiological processes and diseases.'`"
   ]
  },
  {
   "cell_type": "code",
   "execution_count": null,
   "id": "44cce815",
   "metadata": {},
   "outputs": [],
   "source": []
  }
 ],
 "metadata": {
  "kernelspec": {
   "display_name": "Python 3 (ipykernel)",
   "language": "python",
   "name": "python3"
  },
  "language_info": {
   "codemirror_mode": {
    "name": "ipython",
    "version": 3
   },
   "file_extension": ".py",
   "mimetype": "text/x-python",
   "name": "python",
   "nbconvert_exporter": "python",
   "pygments_lexer": "ipython3",
   "version": "3.11.5"
  }
 },
 "nbformat": 4,
 "nbformat_minor": 5
}
